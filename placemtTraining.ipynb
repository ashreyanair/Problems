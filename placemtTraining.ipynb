{
 "cells": [
  {
   "cell_type": "code",
   "execution_count": null,
   "metadata": {
    "colab": {
     "base_uri": "https://localhost:8080/"
    },
    "executionInfo": {
     "elapsed": 30811,
     "status": "ok",
     "timestamp": 1752469962669,
     "user": {
      "displayName": "Arun Shreya Nair",
      "userId": "14016748299927179785"
     },
     "user_tz": -330
    },
    "id": "sxTiMe1fVU7S",
    "outputId": "2c8f6941-00b2-4716-b910-0622836266c5"
   },
   "outputs": [
    {
     "name": "stdout",
     "output_type": "stream",
     "text": [
      "Enter any number3\n",
      "1 x 3 = 3\n",
      "2 x 3 = 6\n",
      "3 x 3 = 9\n",
      "4 x 3 = 12\n",
      "5 x 3 = 15\n",
      "6 x 3 = 18\n",
      "7 x 3 = 21\n",
      "8 x 3 = 24\n",
      "9 x 3 = 27\n",
      "10 x 3 = 30\n"
     ]
    }
   ],
   "source": [
    "#tables\n",
    "a=int(input(\"Enter any number\"))\n",
    "for i in range(1,11):\n",
    "  print(\"{} x {} = {}\".format(i,a,i*a))"
   ]
  },
  {
   "cell_type": "code",
   "execution_count": null,
   "metadata": {
    "colab": {
     "base_uri": "https://localhost:8080/"
    },
    "executionInfo": {
     "elapsed": 19,
     "status": "ok",
     "timestamp": 1752470745108,
     "user": {
      "displayName": "Arun Shreya Nair",
      "userId": "14016748299927179785"
     },
     "user_tz": -330
    },
    "id": "MMwP_TUEWfZu",
    "outputId": "d14f4781-dd0c-430a-d24a-435ea01512b0"
   },
   "outputs": [
    {
     "name": "stdout",
     "output_type": "stream",
     "text": [
      "Hi\n",
      "Hi\n",
      "Hi\n",
      "Hi\n",
      "Hi\n",
      "Hi\n",
      "22\n"
     ]
    }
   ],
   "source": [
    "b=7\n",
    "for i in range(6):\n",
    "  b=b+i:\n",
    "  print(\"Hi\")\n",
    "print(b)"
   ]
  },
  {
   "cell_type": "code",
   "execution_count": null,
   "metadata": {
    "colab": {
     "base_uri": "https://localhost:8080/"
    },
    "executionInfo": {
     "elapsed": 20,
     "status": "ok",
     "timestamp": 1752472367731,
     "user": {
      "displayName": "Arun Shreya Nair",
      "userId": "14016748299927179785"
     },
     "user_tz": -330
    },
    "id": "HQti0N55Za9E",
    "outputId": "eeec5ad2-7c72-4b15-ed94-34d681b69aa1"
   },
   "outputs": [
    {
     "name": "stdout",
     "output_type": "stream",
     "text": [
      "27\n"
     ]
    }
   ],
   "source": [
    "a=10\n",
    "for i in range (10,20,2):\n",
    "  a=a+3\n",
    "a=a+2\n",
    "print(a)"
   ]
  },
  {
   "cell_type": "code",
   "execution_count": null,
   "metadata": {
    "colab": {
     "base_uri": "https://localhost:8080/"
    },
    "executionInfo": {
     "elapsed": 3227,
     "status": "ok",
     "timestamp": 1752474344943,
     "user": {
      "displayName": "Arun Shreya Nair",
      "userId": "14016748299927179785"
     },
     "user_tz": -330
    },
    "id": "Cy3RnC9LjQuw",
    "outputId": "6f18bdc7-840f-46e3-eae6-500238381bcc"
   },
   "outputs": [
    {
     "name": "stdout",
     "output_type": "stream",
     "text": [
      "Enter a number1234\n",
      "Sum of digits is 10\n"
     ]
    }
   ],
   "source": [
    "#Sum of digits\n",
    "a=int(input(\"Enter a number\"))\n",
    "tot=0\n",
    "while(a>0):\n",
    "  tot=tot+a%10\n",
    "  a=a//10\n",
    "print(\"Sum of digits is\",tot)\n"
   ]
  },
  {
   "cell_type": "code",
   "execution_count": null,
   "metadata": {
    "colab": {
     "base_uri": "https://localhost:8080/"
    },
    "executionInfo": {
     "elapsed": 17011,
     "status": "ok",
     "timestamp": 1752475124930,
     "user": {
      "displayName": "Arun Shreya Nair",
      "userId": "14016748299927179785"
     },
     "user_tz": -330
    },
    "id": "-P2XqcacpKtZ",
    "outputId": "f5fc0671-f059-4214-f2f0-1f15197a73f4"
   },
   "outputs": [
    {
     "name": "stdout",
     "output_type": "stream",
     "text": [
      "Enter marks:23\n",
      "Enter marks:45\n",
      "Enter marks:145\n",
      "Enter marks:3\n",
      "Enter marks:0\n",
      "Total is 71\n"
     ]
    }
   ],
   "source": [
    "#Sum of all marks till 0 and not more than 100\n",
    "sum=0\n",
    "while(True):\n",
    "  x=int(input(\"Enter marks:\"))\n",
    "  if x<=100:\n",
    "    sum=sum+x\n",
    "  if x==0:\n",
    "    break\n",
    "print(\"Total is\",sum)\n"
   ]
  },
  {
   "cell_type": "code",
   "execution_count": null,
   "metadata": {
    "colab": {
     "base_uri": "https://localhost:8080/"
    },
    "executionInfo": {
     "elapsed": 6774,
     "status": "ok",
     "timestamp": 1752494998062,
     "user": {
      "displayName": "Arun Shreya Nair",
      "userId": "14016748299927179785"
     },
     "user_tz": -330
    },
    "id": "HK0muuya0Zyr",
    "outputId": "a018f18f-4de1-4677-90b7-4fbca60756a8"
   },
   "outputs": [
    {
     "name": "stdout",
     "output_type": "stream",
     "text": [
      "Enter num 145\n",
      "Enter num 256\n",
      "Enter num 378\n",
      "b is second largest\n"
     ]
    }
   ],
   "source": [
    "#3 integer as input and print second largest number\n",
    "a=int(input(\"Enter num 1\"))\n",
    "b=int(input(\"Enter num 2\"))\n",
    "c=int(input(\"Enter num 3\"))\n",
    "if(a>=b and a<=c):\n",
    "  print(\"a is second largest\")\n",
    "elif(b>=a and b<=c):\n",
    "  print(\"b is second largest\")\n",
    "else:\n",
    "  print(\"c is second largest\")\n"
   ]
  },
  {
   "cell_type": "code",
   "execution_count": null,
   "metadata": {
    "colab": {
     "base_uri": "https://localhost:8080/"
    },
    "id": "urKZKQQKqPoC",
    "outputId": "991fe089-0c50-4abb-9bc4-15e373dcbe2c"
   },
   "outputs": [
    {
     "name": "stdout",
     "output_type": "stream",
     "text": [
      "12 : 57 : 02"
     ]
    }
   ],
   "source": [
    "#time\n",
    "import time\n",
    "import sys\n",
    "h=12\n",
    "m=30\n",
    "s=0\n",
    "while True:\n",
    "  sys.stdout.write(f\"\\r{h:02d} : {m:02d} : {s:02d}\")\n",
    "  sys.stdout.flush()\n",
    "  time.sleep(1)\n",
    "  s=s+1\n",
    "  if(s==60):\n",
    "    m=m+1\n",
    "    s=0\n",
    "  if(m==60):\n",
    "    h=h+1\n",
    "    m=0\n",
    "    s=0\n",
    "  if(h==13):\n",
    "    h=0\n",
    "    m=0\n",
    "    s=0\n"
   ]
  },
  {
   "cell_type": "code",
   "execution_count": null,
   "metadata": {
    "colab": {
     "base_uri": "https://localhost:8080/"
    },
    "executionInfo": {
     "elapsed": 2942,
     "status": "ok",
     "timestamp": 1752495214878,
     "user": {
      "displayName": "Arun Shreya Nair",
      "userId": "14016748299927179785"
     },
     "user_tz": -330
    },
    "id": "V0URbYFu2Lfw",
    "outputId": "b8f35c09-e7cc-411b-9591-a857e3464f22"
   },
   "outputs": [
    {
     "name": "stdout",
     "output_type": "stream",
     "text": [
      "Enter a number2\n",
      "Prime\n"
     ]
    }
   ],
   "source": [
    "#prime or not\n",
    "a=int(input(\"Enter a number\"))\n",
    "c=0\n",
    "for i in range(2,a):\n",
    "  if(a%i==0):\n",
    "    c=c+1\n",
    "if(c==0):\n",
    "  print(\"Prime\")\n",
    "else:\n",
    "  print(\"Composite\")"
   ]
  },
  {
   "cell_type": "code",
   "execution_count": null,
   "metadata": {
    "colab": {
     "base_uri": "https://localhost:8080/"
    },
    "executionInfo": {
     "elapsed": 5225,
     "status": "ok",
     "timestamp": 1752483352076,
     "user": {
      "displayName": "Arun Shreya Nair",
      "userId": "14016748299927179785"
     },
     "user_tz": -330
    },
    "id": "Hig1_wmFHfs6",
    "outputId": "2cb305c3-7707-4609-96b9-6edf6cfc20d2"
   },
   "outputs": [
    {
     "name": "stdout",
     "output_type": "stream",
     "text": [
      "Enter value of a17\n",
      "Enter value of b9\n",
      "1\n"
     ]
    }
   ],
   "source": [
    "#GCD\n",
    "a=int(input(\"Enter value of a\"))\n",
    "b=int(input(\"Enter value of b\"))\n",
    "r=0\n",
    "while(True):\n",
    "  r=a%b\n",
    "  a=b\n",
    "  b=r\n",
    "  if(b==0):\n",
    "    break\n",
    "print(a)\n"
   ]
  },
  {
   "cell_type": "code",
   "execution_count": null,
   "metadata": {
    "colab": {
     "base_uri": "https://localhost:8080/"
    },
    "executionInfo": {
     "elapsed": 6588,
     "status": "ok",
     "timestamp": 1752484378294,
     "user": {
      "displayName": "Arun Shreya Nair",
      "userId": "14016748299927179785"
     },
     "user_tz": -330
    },
    "id": "GDuwp8k1K6t2",
    "outputId": "d8c12495-ad84-4745-c43b-762da1e0d032"
   },
   "outputs": [
    {
     "name": "stdout",
     "output_type": "stream",
     "text": [
      "Enter value of a5\n",
      "Enter value of b10\n",
      "LCM is  10\n"
     ]
    }
   ],
   "source": [
    "#LCM\n",
    "a=int(input(\"Enter value of a\"))\n",
    "b=int(input(\"Enter value of b\"))\n",
    "if(a>b):\n",
    "  big=a\n",
    "else:\n",
    "  big=b\n",
    "step=big\n",
    "while(True):\n",
    "  if(big%a==0 and big%b==0):\n",
    "    print(\"LCM is \",big)\n",
    "    break\n",
    "  else:\n",
    "    big=big+step\n"
   ]
  },
  {
   "cell_type": "code",
   "execution_count": null,
   "metadata": {
    "colab": {
     "base_uri": "https://localhost:8080/"
    },
    "executionInfo": {
     "elapsed": 19,
     "status": "ok",
     "timestamp": 1752485654953,
     "user": {
      "displayName": "Arun Shreya Nair",
      "userId": "14016748299927179785"
     },
     "user_tz": -330
    },
    "id": "Kchpl9QMOIw8",
    "outputId": "af612d44-c470-47c7-dd32-8cecd9a93474"
   },
   "outputs": [
    {
     "name": "stdout",
     "output_type": "stream",
     "text": [
      "* * * * * * * * * * \n",
      "*                 *\n",
      "*                 *\n",
      "*                 *\n",
      "*                 *\n",
      "*                 *\n",
      "*                 *\n",
      "*                 *\n",
      "*                 *\n",
      "*                 *\n",
      "*                 *\n",
      "* * * * * * * * * * "
     ]
    }
   ],
   "source": [
    "#pattern\n",
    "for i in range(10):\n",
    "  print(\"*\",end=\" \")\n",
    "print()\n",
    "for i in range(10):\n",
    "  print(\"*                 *\")\n",
    "for i in range(10):\n",
    "  print(\"*\",end=\" \")\n"
   ]
  },
  {
   "cell_type": "code",
   "execution_count": null,
   "metadata": {
    "id": "9_eXxmJ0SVGZ"
   },
   "outputs": [],
   "source": []
  }
 ],
 "metadata": {
  "colab": {
   "authorship_tag": "ABX9TyMTocIY20ARm3PHBN9Fr0bZ",
   "provenance": []
  },
  "kernelspec": {
   "display_name": "Python 3",
   "name": "python3"
  },
  "language_info": {
   "name": "python"
  }
 },
 "nbformat": 4,
 "nbformat_minor": 0
}
